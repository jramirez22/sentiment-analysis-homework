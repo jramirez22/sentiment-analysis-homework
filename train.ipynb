{
 "cells": [
  {
   "cell_type": "code",
   "execution_count": 1,
   "metadata": {},
   "outputs": [],
   "source": [
    "import pickle\n",
    "import random\n",
    "from typing import List\n",
    "\n",
    "from gensim.corpora import Dictionary\n",
    "import numpy as np"
   ]
  },
  {
   "cell_type": "code",
   "execution_count": 2,
   "metadata": {},
   "outputs": [],
   "source": [
    "with open(r\"data/interim/model_3/positive_words.pkl\", \"rb\") as input_file:\n",
    "    positive_docs = pickle.load(input_file)"
   ]
  },
  {
   "cell_type": "code",
   "execution_count": 3,
   "metadata": {},
   "outputs": [],
   "source": [
    "with open(r\"data/interim/model_3/negative_words.pkl\", \"rb\") as input_file:\n",
    "    negative_docs = pickle.load(input_file)"
   ]
  },
  {
   "cell_type": "code",
   "execution_count": 4,
   "metadata": {
    "scrolled": true
   },
   "outputs": [
    {
     "data": {
      "text/plain": [
       "['go',\n",
       " 'hotel',\n",
       " 'directly',\n",
       " 'book',\n",
       " 'room',\n",
       " 'receptionist',\n",
       " 'first',\n",
       " 'really',\n",
       " 'high',\n",
       " 'price',\n",
       " 'lower',\n",
       " 'ask',\n",
       " 'much',\n",
       " 'cost',\n",
       " 'qetale',\n",
       " 'gave_us',\n",
       " 'comission',\n",
       " 'rate',\n",
       " 'dollar',\n",
       " 'know',\n",
       " 'randomly',\n",
       " 'gove',\n",
       " 'exist',\n",
       " 'rate',\n",
       " 'lower',\n",
       " 'real',\n",
       " 'rate',\n",
       " 'agree',\n",
       " 'price',\n",
       " 'include',\n",
       " 'breakfast',\n",
       " 'follow',\n",
       " 'morning',\n",
       " 'get',\n",
       " 'breakfast',\n",
       " 'receive',\n",
       " 'plain',\n",
       " 'piece',\n",
       " 'toast',\n",
       " 'fruit',\n",
       " 'theoth',\n",
       " 'table',\n",
       " 'receive',\n",
       " 'also',\n",
       " 'egg',\n",
       " 'plantine',\n",
       " 'ask',\n",
       " 'also',\n",
       " 'get',\n",
       " 'egg',\n",
       " 'plantine',\n",
       " 'reply',\n",
       " 'come',\n",
       " 'get',\n",
       " 'breakfast',\n",
       " 'pay',\n",
       " 'good',\n",
       " 'experience',\n",
       " 'hotel',\n",
       " 'place',\n",
       " 'stay']"
      ]
     },
     "execution_count": 4,
     "metadata": {},
     "output_type": "execute_result"
    }
   ],
   "source": [
    "# First negative review\n",
    "negative_docs[0]"
   ]
  },
  {
   "cell_type": "code",
   "execution_count": 5,
   "metadata": {},
   "outputs": [],
   "source": [
    "import math\n",
    "import random\n",
    "\n",
    "def split_data(data, weights = [0.8, 0.2]):\n",
    "    number_data = len(data)\n",
    "    split_limit = math.floor((number_data * weights[0]))\n",
    "    \n",
    "    data_train = data[:split_limit]\n",
    "    data_test = data[split_limit:]\n",
    "    \n",
    "    return data_train, data_test"
   ]
  },
  {
   "cell_type": "code",
   "execution_count": 6,
   "metadata": {},
   "outputs": [
    {
     "name": "stdout",
     "output_type": "stream",
     "text": [
      "['quaint', 'look', 'hotel', 'pretty', 'courtyard', 'roof', 'door', 'room', 'metal', 'glass', 'sound', 'deaden', 'ability', 'people', 'slam', 'night', 'place', 'real', 'noise', 'problem', 'luckily', 'ear_plug', 'friend', 'stay', 'close', 'front', 'complain', 'music', 'night', 'fight', 'couple', 'could_hear', 'every_word', 'bed_linen', 'look', 'bit', 'mattress', 'firm', 'ok', 'shower', 'cold_water', 'little', 'electric', 'heater', 'attach', 'spout', 'mine', 'horrible', 'hard', 'turn', 'water', 'cold', 'water', 'little', 'heater', 'keep', 'leak', 'little', 'skylight', 'bathroom', 'leak', 'mucky', 'water', 'typical', 'part', 'world']\n"
     ]
    }
   ],
   "source": [
    "# We shuffle the lists before splitting the data\n",
    "# We establish a seed to ensure reproducibility\n",
    "random.seed(123)\n",
    "\n",
    "# Shuffle reviews\n",
    "positive_docs = random.sample(positive_docs, len(positive_docs) )\n",
    "negative_docs = random.sample(negative_docs, len(negative_docs))\n",
    "\n",
    "negative_train, negative_test = split_data(negative_docs)\n",
    "positive_train, positive_test = split_data(positive_docs)\n",
    "\n",
    "print(negative_train[0])"
   ]
  },
  {
   "cell_type": "code",
   "execution_count": 7,
   "metadata": {},
   "outputs": [],
   "source": [
    "positive_words = [item for sublist in positive_train for item in sublist]\n",
    "negative_words = [item for sublist in negative_train for item in sublist]"
   ]
  },
  {
   "cell_type": "code",
   "execution_count": 8,
   "metadata": {},
   "outputs": [],
   "source": [
    "def create_dictionary(documents: List[List[str]]):\n",
    "    return Dictionary(documents)"
   ]
  },
  {
   "cell_type": "code",
   "execution_count": 9,
   "metadata": {},
   "outputs": [],
   "source": [
    "dictionary = create_dictionary([negative_words, positive_words])"
   ]
  },
  {
   "cell_type": "code",
   "execution_count": 10,
   "metadata": {},
   "outputs": [],
   "source": [
    "# for entry in dictionary.items():\n",
    "#     print(entry)"
   ]
  },
  {
   "cell_type": "code",
   "execution_count": 11,
   "metadata": {},
   "outputs": [],
   "source": [
    "def split_data(data: List, weights: List = (1, 0, 0)):\n",
    "    split = {\n",
    "        'train': [],\n",
    "        'test': [],\n",
    "        'validation': [],\n",
    "    }\n",
    "    for word in data:\n",
    "        subset = random.choices(['train', 'test', 'validation'], weights=weights)[0]\n",
    "        split[subset].append(word)\n",
    "\n",
    "    return split"
   ]
  },
  {
   "cell_type": "code",
   "execution_count": 12,
   "metadata": {},
   "outputs": [],
   "source": [
    "positive_docs_split = split_data(positive_docs)\n",
    "negative_docs_split = split_data(negative_docs)"
   ]
  },
  {
   "cell_type": "code",
   "execution_count": 13,
   "metadata": {},
   "outputs": [],
   "source": [
    "negative_words_split = {key: [item for sublist in value for item in sublist] for key, value in negative_docs_split.items()}\n",
    "positive_words_split = {key: [item for sublist in value for item in sublist] for key, value in positive_docs_split.items()}"
   ]
  },
  {
   "cell_type": "code",
   "execution_count": 14,
   "metadata": {},
   "outputs": [
    {
     "name": "stdout",
     "output_type": "stream",
     "text": [
      "37178\n",
      "0\n",
      "0\n"
     ]
    }
   ],
   "source": [
    "print(len(negative_words_split['train']))\n",
    "print(len(negative_words_split['validation']))\n",
    "print(len(negative_words_split['test']))"
   ]
  },
  {
   "cell_type": "code",
   "execution_count": 15,
   "metadata": {},
   "outputs": [],
   "source": [
    "negative_bow = dictionary.doc2bow(negative_words_split['train'])\n",
    "positive_bow = dictionary.doc2bow(positive_words_split['train'])\n",
    "\n",
    "total_negative_words = len(negative_words_split['train']) + len(dictionary)\n",
    "total_positive_words = len(positive_words_split['train']) + len(dictionary)"
   ]
  },
  {
   "cell_type": "code",
   "execution_count": 16,
   "metadata": {},
   "outputs": [
    {
     "name": "stdout",
     "output_type": "stream",
     "text": [
      "52390\n",
      "520772\n"
     ]
    }
   ],
   "source": [
    "print(total_negative_words)\n",
    "print(total_positive_words)"
   ]
  },
  {
   "cell_type": "code",
   "execution_count": 17,
   "metadata": {},
   "outputs": [],
   "source": [
    "negative_word_probs = {}\n",
    "for id, count in negative_bow:\n",
    "    negative_word_probs[dictionary[id]] = {\n",
    "        'id': id,\n",
    "        'logprob': np.log((count + 1)/total_negative_words),\n",
    "    }\n",
    "\n",
    "negative_word_probs[-1] = {\n",
    "    'id': -1,\n",
    "    'logprob': np.log(1/total_negative_words)\n",
    "}"
   ]
  },
  {
   "cell_type": "code",
   "execution_count": 18,
   "metadata": {},
   "outputs": [],
   "source": [
    "positive_word_probs = {}\n",
    "for id, count in positive_bow:\n",
    "    positive_word_probs[dictionary[id]] = {\n",
    "        'id': id,\n",
    "        'logprob': np.log((count + 1)/total_positive_words),\n",
    "    }\n",
    "positive_word_probs[-1] = {\n",
    "    'id': -1,\n",
    "    'logprob': np.log(1/total_positive_words)\n",
    "}"
   ]
  },
  {
   "cell_type": "code",
   "execution_count": 19,
   "metadata": {},
   "outputs": [],
   "source": [
    "negative_prob = len(negative_docs_split[\"train\"]) / (len(negative_docs_split[\"train\"]) + len(positive_docs_split[\"train\"]))\n",
    "positive_prob = len(positive_docs_split[\"train\"]) / (len(negative_docs_split[\"train\"]) + len(positive_docs_split[\"train\"]))"
   ]
  },
  {
   "cell_type": "code",
   "execution_count": 20,
   "metadata": {},
   "outputs": [
    {
     "data": {
      "text/plain": [
       "0.05637036092335161"
      ]
     },
     "execution_count": 20,
     "metadata": {},
     "output_type": "execute_result"
    }
   ],
   "source": [
    "negative_prob"
   ]
  },
  {
   "cell_type": "code",
   "execution_count": 21,
   "metadata": {},
   "outputs": [
    {
     "data": {
      "text/plain": [
       "0.9436296390766484"
      ]
     },
     "execution_count": 21,
     "metadata": {},
     "output_type": "execute_result"
    }
   ],
   "source": [
    "positive_prob"
   ]
  },
  {
   "cell_type": "code",
   "execution_count": 22,
   "metadata": {},
   "outputs": [],
   "source": [
    "model = {\n",
    "    'POS_PROB': np.log(positive_prob),\n",
    "    'NEG_PROB': np.log(negative_prob),\n",
    "    'COND_POS_PROBS': positive_word_probs,\n",
    "    'COND_NEG_PROBS': negative_word_probs\n",
    "}"
   ]
  },
  {
   "cell_type": "code",
   "execution_count": 23,
   "metadata": {},
   "outputs": [
    {
     "name": "stdout",
     "output_type": "stream",
     "text": [
      "{'COND_NEG_PROBS': {...},\n",
      " 'COND_POS_PROBS': {...},\n",
      " 'NEG_PROB': -2.875811774153224,\n",
      " 'POS_PROB': -0.058021521305370964}\n"
     ]
    }
   ],
   "source": [
    "import pprint \n",
    "\n",
    "pp = pprint.PrettyPrinter(indent=1, depth= 1)\n",
    "pp.pprint(model)"
   ]
  },
  {
   "cell_type": "code",
   "execution_count": 24,
   "metadata": {},
   "outputs": [],
   "source": [
    "def perf_measure(y_actual, y_predicted): \n",
    "    tp = np.sum((y_actual == 1) & (y_predicted == 1))\n",
    "    tn = np.sum((y_actual == 0) & (y_predicted == 0))\n",
    "    fp = np.sum((y_predicted == 1) & (y_actual != y_predicted))\n",
    "    fn = np.sum((y_predicted == 0) & (y_actual != y_predicted))\n",
    "\n",
    "    #  Precision\n",
    "    if (tp + fp) > 0:\n",
    "        precision = tp / (tp + fp)\n",
    "    else:\n",
    "        precision = -1\n",
    "    \n",
    "    # Recall\n",
    "    if (tp + fn) > 0:\n",
    "        recall = tp / (tp + fn)\n",
    "    else:\n",
    "        recall = -1\n",
    "   \n",
    "    # Acc \n",
    "    accuracy = (tp + tn) / (tp + fp + fn + tn)\n",
    "    \n",
    "    # F1\n",
    "    if precision >= 0 and recall >= 0:\n",
    "        f1 = 2 * precision * recall / (precision + recall)\n",
    "    else:\n",
    "        f1 = -1\n",
    "    \n",
    "    return (precision, recall, accuracy, f1, tp, tn, fp, fn)"
   ]
  },
  {
   "cell_type": "code",
   "execution_count": 25,
   "metadata": {},
   "outputs": [],
   "source": [
    "def predict(model, reviews):\n",
    "    y_predicted = []\n",
    "\n",
    "    for review in reviews:\n",
    "        positive_count = 0\n",
    "        negative_count = 0\n",
    "        for word in review:\n",
    "            if model.get(\"COND_POS_PROBS\").get(word) is not None:\n",
    "                positive_count += model.get(\"COND_POS_PROBS\").get(word).get('logprob')\n",
    "            if model.get(\"COND_NEG_PROBS\").get(word) is not None:\n",
    "                negative_count += model.get(\"COND_NEG_PROBS\").get(word).get('logprob')\n",
    "                \n",
    "        positive_count += model.get(\"POS_PROB\")\n",
    "        negative_count += model.get(\"NEG_PROB\")\n",
    "        \n",
    "        if positive_count >= negative_count:\n",
    "            y_predicted.append(0)\n",
    "        else:\n",
    "            y_predicted.append(1)\n",
    "\n",
    "    return(y_predicted)\n",
    "            "
   ]
  },
  {
   "cell_type": "code",
   "execution_count": 26,
   "metadata": {},
   "outputs": [
    {
     "name": "stdout",
     "output_type": "stream",
     "text": [
      "precision:  0.94\n",
      "recall: 0.66\n",
      "accuracy:  0.64\n"
     ]
    }
   ],
   "source": [
    "import numpy as np\n",
    "\n",
    "y_predicted_positive = predict(model, positive_test)\n",
    "y_predicted_negative = predict(model, negative_test)\n",
    "\n",
    "y_positive = np.ones(len(y_predicted_positive))\n",
    "y_negative = np.zeros(len(y_predicted_negative))\n",
    "\n",
    "y_predicted = np.array(y_predicted_positive + y_predicted_negative)\n",
    "y_actual = np.concatenate([y_positive, y_negative])\n",
    "\n",
    "precision, recall, accuracy, _, _, _, _, _ = perf_measure(y_actual, y_predicted)\n",
    "\n",
    "print(\"precision: \", round(precision, 2))\n",
    "print(\"recall:\", round(recall, 2))\n",
    "print(\"accuracy: \", round(accuracy, 2))\n"
   ]
  },
  {
   "cell_type": "code",
   "execution_count": 27,
   "metadata": {},
   "outputs": [
    {
     "data": {
      "image/png": "[encoded data removed]",
      "text/plain": [
       "<Figure size 432x288 with 2 Axes>"
      ]
     },
     "metadata": {
      "needs_background": "light"
     },
     "output_type": "display_data"
    }
   ],
   "source": [
    "import matplotlib.pyplot as plt\n",
    "import seaborn as sns\n",
    "\n",
    "\n",
    "from sklearn.metrics import confusion_matrix\n",
    "\n",
    "sns.set_theme()\n",
    "\n",
    "\n",
    "cf_matrix = confusion_matrix(y_actual, y_predicted)\n",
    "ax = sns.heatmap(cf_matrix / np.sum(cf_matrix), annot=True, fmt=\".2%\", cmap='Blues')\n",
    "\n",
    "ax.xaxis.set_ticklabels([\"False\",\"True\"])\n",
    "ax.yaxis.set_ticklabels([\"False\",\"True\"])\n",
    "\n",
    "ax.set_xlabel(\"Predicted Values\")\n",
    "ax.set_ylabel(\"Actual Values\")\n",
    "\n",
    "plt.show()\n"
   ]
  },
  {
   "cell_type": "code",
   "execution_count": 28,
   "metadata": {},
   "outputs": [],
   "source": [
    "with open(r\"models/model_3.pkl\", \"wb\") as output_file:\n",
    "    pickle.dump(model, output_file)"
   ]
  },
  {
   "cell_type": "markdown",
   "metadata": {},
   "source": [
    "\"The staff was super friendly, the food was superb ...\"\n",
    "\n",
    "review -----> tokenize\n",
    "\n",
    "`[\"staff\", \"be\", \"friendly\", \"food\" \"be\", \"superb\"]`\n",
    "\n",
    "$\\log P(\\text{staff}|+) + \\log P(\\text{be}|+) + \\log P(\\text{friendly}|+)+ \\log P(\\text{food}|+) + \\log P(\\text{food}|+) + \\log P(\\text{superb}|+)+ \\log P(+) = -203.42$\n",
    "$\\log P(\\text{staff}|-) + \\log P(\\text{be}|-) + \\log P(\\text{friendly}|-)+ \\log P(\\text{food}|-) + \\log P(\\text{food}|-) + \\log P(\\text{superb}|-)+ \\log P(-) = -400.47$"
   ]
  }
 ],
 "metadata": {
  "kernelspec": {
   "display_name": "Python 3 (ipykernel)",
   "language": "python",
   "name": "python3"
  },
  "language_info": {
   "codemirror_mode": {
    "name": "ipython",
    "version": 3
   },
   "file_extension": ".py",
   "mimetype": "text/x-python",
   "name": "python",
   "nbconvert_exporter": "python",
   "pygments_lexer": "ipython3",
   "version": "3.10.5"
  }
 },
 "nbformat": 4,
 "nbformat_minor": 4
}
